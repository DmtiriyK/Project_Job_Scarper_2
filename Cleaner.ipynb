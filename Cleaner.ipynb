{
 "cells": [
  {
   "cell_type": "code",
   "execution_count": 2,
   "id": "027168ad-1c3c-4720-b1b4-a54f7771fe65",
   "metadata": {},
   "outputs": [
    {
     "name": "stdout",
     "output_type": "stream",
     "text": [
      "✅ Чистка закончена. Файл сохранён как linkedin_jobs_germany_clean.csv\n"
     ]
    }
   ],
   "source": [
    "import pandas as pd\n",
    "import re\n",
    "\n",
    "\n",
    "df = pd.read_csv('linkedin_jobs_germany_enriched.csv')\n",
    "\n",
    "\n",
    "df = df.drop_duplicates(subset=['Link'])\n",
    "\n",
    "\n",
    "def clean_title(title):\n",
    "    if not isinstance(title, str):\n",
    "        return ''\n",
    "  \n",
    "    title = re.sub(r'\\s*\\((?:m/w/d|m/f/x|gn|all genders|alle|div|m|w|d)\\)', '', title, flags=re.IGNORECASE)\n",
    "    title = re.sub(r'\\s+', ' ', title)\n",
    "    return title.strip()\n",
    "\n",
    "df['Title'] = df['Title'].apply(clean_title)\n",
    "\n",
    "df['Seniority'] = df['Seniority'].str.lower().str.strip()\n",
    "df['Seniority'] = df['Seniority'].replace({'werkstudent': 'werkstudent', 'junior': 'junior', 'senior': 'senior', 'praktikum': 'praktikum', 'student': 'werkstudent'})\n",
    "\n",
    "df['Lang'] = df['Lang'].str.lower().str.strip()\n",
    "df['Lang'] = df['Lang'].replace({'deutsch': 'de', 'german': 'de', 'englisch': 'en', 'english': 'en', 'en-de': 'mixed', 'de-en': 'mixed'})\n",
    "\n",
    "\n",
    "df['Company'] = df['Company'].str.strip().str.title()\n",
    "\n",
    "\n",
    "bool_cols = [col for col in df.columns if col.startswith('Has_') or col in ['Remote']]\n",
    "for col in bool_cols:\n",
    "    df[col] = df[col].apply(lambda x: True if str(x).strip().lower() in ['true', '1', 'yes'] else False)\n",
    "\n",
    "df = df.dropna(subset=['Title', 'Company'], how='all')\n",
    "\n",
    "df = df.dropna(axis=1, how='all')\n",
    "df = df.loc[:, (df != False).any(axis=0)]\n",
    "\n",
    "df.to_csv('linkedin_jobs_germany_clean.csv', index=False)\n",
    "print(\"✅linkedin_jobs_germany_clean.csv\")\n"
   ]
  },
  {
   "cell_type": "code",
   "execution_count": 3,
   "id": "c2ffd05d-0f7b-4a2e-8128-ec6e1ec988dd",
   "metadata": {},
   "outputs": [
    {
     "name": "stdout",
     "output_type": "stream",
     "text": [
      "✅ Грязные строки и мусорные вакансии удалены. Файл сохранён.\n"
     ]
    }
   ],
   "source": [
    "import pandas as pd\n",
    "\n",
    "df = pd.read_csv('linkedin_jobs_germany_clean.csv')\n",
    "\n",
    "df = df[df['Title'].str.count(r'[A-Za-zА-Яа-я]') > 5]\n",
    "\n",
    "\n",
    "df = df[~df['Title'].str.contains(r'^\\*+|/|\\\\|^[\\W_]+$', regex=True)]\n",
    "\n",
    "df['Title'] = df['Title'].str.title().str.strip()\n",
    "\n",
    "df.to_csv('linkedin_jobs_germany_clean2.csv', index=False)\n",
    "print(\"✅\")\n"
   ]
  },
  {
   "cell_type": "code",
   "execution_count": null,
   "id": "8f5ac5d5-d68f-4cb2-84d4-bd4361cb5630",
   "metadata": {},
   "outputs": [],
   "source": []
  }
 ],
 "metadata": {
  "kernelspec": {
   "display_name": "Python 3 (ipykernel)",
   "language": "python",
   "name": "python3"
  },
  "language_info": {
   "codemirror_mode": {
    "name": "ipython",
    "version": 3
   },
   "file_extension": ".py",
   "mimetype": "text/x-python",
   "name": "python",
   "nbconvert_exporter": "python",
   "pygments_lexer": "ipython3",
   "version": "3.13.5"
  }
 },
 "nbformat": 4,
 "nbformat_minor": 5
}
